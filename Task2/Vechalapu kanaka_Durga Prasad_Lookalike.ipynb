{
 "cells": [
  {
   "cell_type": "markdown",
   "id": "85e79bbb-29da-4291-a838-c46f2100a0a2",
   "metadata": {},
   "source": [
    "# Code for Loading and Merging Data\n",
    "# Import necessary libraries\n",
    "\n",
    "\n"
   ]
  },
  {
   "cell_type": "code",
   "execution_count": 9,
   "id": "240cc795-35ca-48a8-9d6a-6c0da616d4ac",
   "metadata": {},
   "outputs": [],
   "source": [
    "import pandas as pd\n",
    "from sklearn.metrics.pairwise import cosine_similarity"
   ]
  },
  {
   "cell_type": "markdown",
   "id": "37013725-d1c2-41ba-9dc8-6da888121443",
   "metadata": {},
   "source": [
    "# Load datasets"
   ]
  },
  {
   "cell_type": "code",
   "execution_count": 12,
   "id": "73a6ebb7-3e74-443b-b217-4b528c5f824b",
   "metadata": {},
   "outputs": [],
   "source": [
    "customers = pd.read_csv(r\"C:\\Users\\kanak\\Downloads\\Customers.csv\")\n",
    "transactions = pd.read_csv(r\"C:\\Users\\kanak\\Downloads\\Transactions.csv\")"
   ]
  },
  {
   "cell_type": "markdown",
   "id": "6806142e-62e5-452e-9e00-c1bbaf0a244a",
   "metadata": {},
   "source": [
    "# Merge transactions with customers"
   ]
  },
  {
   "cell_type": "code",
   "execution_count": 15,
   "id": "32193a95-d426-48db-8e53-a6681f0f435a",
   "metadata": {},
   "outputs": [],
   "source": [
    "merged_data = pd.merge(transactions, customers, on='CustomerID')"
   ]
  },
  {
   "cell_type": "markdown",
   "id": "0134c9db-fd73-405e-8c21-74126460ccc1",
   "metadata": {},
   "source": [
    "# Create a customer-product interaction matrix"
   ]
  },
  {
   "cell_type": "code",
   "execution_count": 18,
   "id": "7a6370c1-dc85-4bae-b3d8-eb7bf0bdbdda",
   "metadata": {},
   "outputs": [],
   "source": [
    "customer_product_matrix = merged_data.pivot_table(\n",
    "    index='CustomerID',\n",
    "    columns='ProductID',\n",
    "    values='Quantity',\n",
    "    fill_value=0\n",
    ")"
   ]
  },
  {
   "cell_type": "markdown",
   "id": "0a05ba89-6d4a-4636-8b8c-40d7e616c32e",
   "metadata": {},
   "source": [
    "# Code for Computing Similarity\n",
    "# Compute cosine similarity"
   ]
  },
  {
   "cell_type": "code",
   "execution_count": 21,
   "id": "9971f618-4229-4811-a1c9-e3ae13aca390",
   "metadata": {},
   "outputs": [],
   "source": [
    "similarity_matrix = cosine_similarity(customer_product_matrix)\n",
    "similarity_df = pd.DataFrame(similarity_matrix, index=customer_product_matrix.index, columns=customer_product_matrix.index)"
   ]
  },
  {
   "cell_type": "markdown",
   "id": "945f4db9-a1dd-4461-9f6a-3b7f11bf4ad1",
   "metadata": {},
   "source": [
    "# Function to get the top 3 similar customers"
   ]
  },
  {
   "cell_type": "code",
   "execution_count": 24,
   "id": "456592af-15ee-48c3-be17-5cc0b2497317",
   "metadata": {},
   "outputs": [],
   "source": [
    "def get_top_3_similar(customers_list, similarity_df):\n",
    "    lookalike_map = {}\n",
    "    for customer_id in customers_list:\n",
    "        similar_customers = similarity_df.loc[customer_id].sort_values(ascending=False).iloc[1:4]\n",
    "        lookalike_map[customer_id] = [(similar_cust, score) for similar_cust, score in similar_customers.items()]\n",
    "    return lookalike_map"
   ]
  },
  {
   "cell_type": "markdown",
   "id": "e3d8f7fa-f325-434f-ae76-c6a444ca95c9",
   "metadata": {},
   "source": [
    "# Get top 3 similar customers for the first 20 customers"
   ]
  },
  {
   "cell_type": "code",
   "execution_count": 27,
   "id": "ed46a7fa-6f96-42ef-be78-7bca0adfc16d",
   "metadata": {},
   "outputs": [],
   "source": [
    "customer_list = customers['CustomerID'][:20]\n",
    "top_3_lookalikes = get_top_3_similar(customer_list, similarity_df)"
   ]
  },
  {
   "cell_type": "markdown",
   "id": "4cf7f0a3-04be-4cbc-aa4a-4a28a707c947",
   "metadata": {},
   "source": [
    "# Code for Saving the Results\n",
    "# Convert the lookalike map to a DataFrame"
   ]
  },
  {
   "cell_type": "code",
   "execution_count": 30,
   "id": "8df3f88a-f1f6-4019-9eaf-100edfbd4f9b",
   "metadata": {},
   "outputs": [],
   "source": [
    "lookalike_list = []\n",
    "for cust_id, similar_customers in top_3_lookalikes.items():\n",
    "    lookalike_list.append({\n",
    "        'CustomerID': cust_id,\n",
    "        'Lookalikes': [{'CustomerID': similar_cust, 'Score': score} for similar_cust, score in similar_customers]\n",
    "    })"
   ]
  },
  {
   "cell_type": "markdown",
   "id": "acdf89da-50d9-4c59-bc45-16105ec8bbfb",
   "metadata": {},
   "source": [
    "\n",
    "# Save as CSV"
   ]
  },
  {
   "cell_type": "code",
   "execution_count": 35,
   "id": "272d3bd9-2600-4186-96a7-afb0d195066b",
   "metadata": {},
   "outputs": [],
   "source": [
    "lookalike_df = pd.DataFrame(lookalike_list)\n",
    "lookalike_df.to_csv('Vechalapu kanaka_Durga Prasad_Lookalike.csv', index=False)"
   ]
  },
  {
   "cell_type": "code",
   "execution_count": null,
   "id": "f7d7cf0d-9bea-49c9-8eaa-3a5a2f22b6d1",
   "metadata": {},
   "outputs": [],
   "source": []
  }
 ],
 "metadata": {
  "kernelspec": {
   "display_name": "Python [conda env:base] *",
   "language": "python",
   "name": "conda-base-py"
  },
  "language_info": {
   "codemirror_mode": {
    "name": "ipython",
    "version": 3
   },
   "file_extension": ".py",
   "mimetype": "text/x-python",
   "name": "python",
   "nbconvert_exporter": "python",
   "pygments_lexer": "ipython3",
   "version": "3.12.7"
  }
 },
 "nbformat": 4,
 "nbformat_minor": 5
}
